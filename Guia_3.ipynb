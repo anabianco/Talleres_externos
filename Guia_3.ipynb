{
 "cells": [
  {
   "cell_type": "markdown",
   "metadata": {},
   "source": [
    "1. Comprobación empírica de la LGN: caclulalemos promedios utilizando cada vez más datos observaremos el comportamiento del promedio a medida que la cantidad de datos aumenta.  "
   ]
  },
  {
   "cell_type": "markdown",
   "metadata": {},
   "source": [
    "a. Considere una distribución $\\mathcal{U}(0,1)$. Indique cuál es el valor verdadero de la media $\\mu$."
   ]
  },
  {
   "cell_type": "markdown",
   "metadata": {},
   "source": [
    "$\\mu= \\frac 12$"
   ]
  },
  {
   "cell_type": "markdown",
   "metadata": {},
   "source": [
    "b. Genere una muestra de tamaño $N=1000$ y para cada $k$  entre $1$ y $1000$ calcule  el promedio de las primeras $k$ \n",
    "observaciones. Realice un  scatterplot de $k$ vs. promedio. Incluya una linea horizontal en el valor de $y$ correspondiente \n",
    "a la verdadera media $\\mu$. "
   ]
  },
  {
   "cell_type": "code",
   "execution_count": 1,
   "metadata": {
    "collapsed": true
   },
   "outputs": [],
   "source": [
    "library(repr)\n",
    "options(repr.plot.width=8,repr.plot.height=4) #controlo el tamaño de la ventana grafica"
   ]
  },
  {
   "cell_type": "code",
   "execution_count": 38,
   "metadata": {
    "collapsed": false
   },
   "outputs": [
    {
     "data": {
      "image/png": "[encoded data removed]",
      "text/plain": [
       "plot without title"
      ]
     },
     "metadata": {},
     "output_type": "display_data"
    }
   ],
   "source": [
    "N=1000\n",
    "promedio<-rep(0,N)\n",
    "#hago un vector de ceros, tambien podria hacer promedio=c(), pero al hacer =rep(0,ene) reservo solo ene espacios de memoria\n",
    "\n",
    "set.seed(678)\n",
    "uniformes=runif(N,0,1) #genero todas las uniformes\n",
    "\n",
    "for( k in 1:N)\n",
    "  {   \n",
    "  promedio[k]<-mean(uniformes[1:k]) #promedio las primeras k\n",
    "}\n",
    "\n",
    "plot(1:N,promedio,type=\"n\", xlab=\"n\",ylab=expression(bar(x)[n]))\n",
    "abline(h=0.5,col=\"red\")\n",
    "points(1:N,promedio,col=\"blue\", pch=1)\n"
   ]
  },
  {
   "cell_type": "markdown",
   "metadata": {},
   "source": [
    "c. Repetimos b) comenzando con otra semilla y superpongamos  el nuevo  gráfico utilizando un color diferente. \n",
    "Comparamos los  gráficos obtenidos. ¿Qué puede  concluir?"
   ]
  },
  {
   "cell_type": "code",
   "execution_count": 39,
   "metadata": {
    "collapsed": false
   },
   "outputs": [
    {
     "data": {
      "image/png": "[encoded data removed]",
      "text/plain": [
       "plot without title"
      ]
     },
     "metadata": {},
     "output_type": "display_data"
    }
   ],
   "source": [
    "### Repito para superponer gráfico\n",
    "\n",
    "N=1000\n",
    "promedio<-rep(0,N)\n",
    "\n",
    "set.seed(678)\n",
    "uniformes=runif(N,0,1) \n",
    "\n",
    "for( k in 1:N)\n",
    "  {   \n",
    "  promedio[k]<-mean(uniformes[1:k]) \n",
    "}\n",
    "\n",
    "plot(1:N,promedio,type=\"n\", xlab=\"n\",ylab=expression(bar(x)[n]))\n",
    "abline(h=0.5,col=\"red\")\n",
    "points(1:N,promedio,col=\"blue\", pch=1)\n",
    "\n",
    "#### Ahora hago item c).\n",
    "set.seed(123)          #fijo  nueva semilla \n",
    "uniformes=runif(N,0,1) #genero todas las uniformes\n",
    "\n",
    "for( k in 1:N)\n",
    "{   \n",
    "  promedio[k]<-mean(uniformes[1:k])  \n",
    "}\n",
    "\n",
    "points(1:N,promedio,col=\"red\", pch=1)\n"
   ]
  },
  {
   "cell_type": "markdown",
   "metadata": {},
   "source": [
    "d. Genere ahora datos  con una distribución de Cauchy. Recuerde  que la distribución Cauchy coincide con la  distribución t de \n",
    "Student con un grado de libertad, y su dendsidad está dada por\n",
    "$$ f_X(x)= \\frac{1}{\\pi (1+x^2)} \\,. $$\n",
    "Observe que es una densidad simétrica alrededor del cero, con colas que acumulan más probabilidad que la normal\n",
    "estándar, y que no tiene esperanza ni varianza finitas. Repita el item b) generando ahora variables con distribución Cauchy,\n",
    " utilizando en R el comando rt(n, df=1). Repita utilizando diferentes semillas. \n",
    "Comente los gráficos obtenidos. "
   ]
  },
  {
   "cell_type": "code",
   "execution_count": 41,
   "metadata": {
    "collapsed": false
   },
   "outputs": [
    {
     "data": {
      "image/png": "[encoded data removed]",
      "text/plain": [
       "plot without title"
      ]
     },
     "metadata": {},
     "output_type": "display_data"
    }
   ],
   "source": [
    "N<-1000\n",
    "set.seed(123)\n",
    "cauchi=rt(N,df=1)\n",
    "promedio.cauchi<-rep(NA, N)\n",
    "for( k in 1:N){   \n",
    "  promedio.cauchi[k]<-mean(cauchi[1:k])\n",
    "}\n",
    "plot(1:N,promedio.cauchi,col=\"red\", pch=1)\n",
    "\n"
   ]
  },
  {
   "cell_type": "markdown",
   "metadata": {},
   "source": [
    "2.En este ejercicio estudiaremos de manera empírica la distribución del promedio $\\bar{X}_n$ de variables $X_1, \\ldots, X_n$,   \n",
    "independientes e idénticamente distribuidas (i.i.d.). Para ello generaremos datos y realizaremos histogramas de promedios\n",
    "$\\bar{X}_n$.  Es decir, trataremos de interpretar mediante una simulación los resultados de la Ley de los Grandes Números y \n",
    "el Teorema Central del Límite. "
   ]
  },
  {
   "cell_type": "markdown",
   "metadata": {},
   "source": [
    "a. Caso $n=1$: la variable coincide con el promedio. Genere  $Nrep=1000$ datos correspondientes a  $X\\sim \\mathcal U(0; 1)$   y luego haga un histograma con los datos generados. ¿A qué densidad se parece el histograma obtenido?"
   ]
  },
  {
   "cell_type": "code",
   "execution_count": 11,
   "metadata": {
    "collapsed": false
   },
   "outputs": [
    {
     "data": {
      "image/png": "[encoded data removed]",
      "text/plain": [
       "Plot with title \"Histogram of xbarra1\""
      ]
     },
     "metadata": {},
     "output_type": "display_data"
    }
   ],
   "source": [
    "# primero genero 1000 v.a. uniformes y luego hago el histograma.\n",
    "Nrep=1000\n",
    "set.seed(123) #fijo la semilla para poder replicar el experimento numerico\n",
    "u1<-runif(Nrep)\n",
    "xbarra1=u1  \n",
    "hist(xbarra1,freq=F)\n"
   ]
  },
  {
   "cell_type": "markdown",
   "metadata": {},
   "source": [
    "Parece una uniforme."
   ]
  },
  {
   "cell_type": "markdown",
   "metadata": {},
   "source": [
    "b. Caso  $n=2$: Genere  $n=2$ datos (independientes)  correspondientes a una   variable aleatorias con distribución $\\mathcal U(0; 1)$  y compute el  promedio. Replique  $Nrep=1000$ veces y  realice un histograma con los $Nrep=1000$ promedios obtenidos.\n",
    "¿Qué características tiene este histograma?\n",
    "\n",
    "** Usamos el comando apply()."
   ]
  },
  {
   "cell_type": "code",
   "execution_count": 12,
   "metadata": {
    "collapsed": false
   },
   "outputs": [
    {
     "data": {
      "image/png": "[encoded data removed]",
      "text/plain": [
       "Plot with title \"Promedio de 2 v.a. independientes U(0,1)\""
      ]
     },
     "metadata": {},
     "output_type": "display_data"
    }
   ],
   "source": [
    "set.seed(123)       #fijo la semilla para poder replicar el experimento numerico\n",
    "\n",
    "ene=2\n",
    "matriz2<-matrix(runif(1000*ene),nrow=1000, ncol=ene,byrow=T) # genero las 1000 uniformes del item anterior y otras 10000 \n",
    "xbarra2<-apply(matriz2,1,mean) #R oriented: aplico la función mean por fila\n",
    "\n",
    "hist(xbarra2,freq=F,main=\"Promedio de 2 v.a. independientes U(0,1)\")\n"
   ]
  },
  {
   "cell_type": "markdown",
   "metadata": {},
   "source": [
    "c. Repita el item anterior utilizando  $n=5$, $n=30$, $n=500$, $n=1200$ y guarde el valor de los $Nrep=1000$ promedios obtenidos\n",
    "para cada valor de $n$. \n"
   ]
  },
  {
   "cell_type": "markdown",
   "metadata": {},
   "source": [
    "d. Realice un histograma para cada conjunto de promedios. Observe que un boxplot  es más cómodo para comparar distintos conjuntos de datos."
   ]
  },
  {
   "cell_type": "code",
   "execution_count": 44,
   "metadata": {
    "collapsed": false
   },
   "outputs": [
    {
     "data": {
      "image/png": "[encoded data removed]",
      "text/plain": [
       "Plot with title \"Promedio de 1200 v.a. i.i.d. U(0,1)\""
      ]
     },
     "metadata": {},
     "output_type": "display_data"
    }
   ],
   "source": [
    "## Hago c y d) juntos\n",
    "\n",
    "par(mfrow=c(2,2))\n",
    "Nrep=1000\n",
    "\n",
    "## c) para n=5  i.i.d U(0,1). \n",
    "set.seed(123)\n",
    "\n",
    "ene=5\n",
    "matriz5<-matrix(runif(Nrep*ene),nrow=Nrep, ncol=ene,byrow=T) # genero las Nrep=1000 uniformes del item anterior y otras Nrep\n",
    "xbarra5<-apply(matriz2,1,mean) #R oriented\n",
    "\n",
    "hist(xbarra5,freq=F,main=\"Promedio de 5 v.a. i.i.d. U(0,1)\")\n",
    "\n",
    "\n",
    "## c) Repetimos para n=30 v.a. i.i.d U(0,1). \n",
    "set.seed(123)\n",
    "ene=30\n",
    "matriz30<-matrix(runif(Nrep*ene),nrow=Nrep, ncol=ene,byrow=T) # genero las Nrep=1000 uniformes del item anterior y otras Nrep \n",
    "xbarra30<-apply(matriz30,1,mean) #R oriented\n",
    "\n",
    "hist(xbarra30,freq=F,main=\"Promedio de 30 v.a. i.i.d. U(0,1)\")\n",
    "\n",
    "# c) Idem n=500\n",
    "set.seed(123)\n",
    "ene=500\n",
    "matriz500<-matrix(runif(Nrep*ene),nrow=Nrep, ncol=ene,byrow=T) # genero las Nrep=1000 uniformes del item anterior y otras Nrep\n",
    "xbarra500<-apply(matriz500,1,mean) #R oriented\n",
    "\n",
    "hist(xbarra500,freq=F,main=\"Promedio de 500 v.a. i.i.d. U(0,1)\")\n",
    "\n",
    "# c)  idem n=1200\n",
    "set.seed(123)\n",
    "ene=1200\n",
    "matriz1200<-matrix(runif(Nrep*ene),nrow=Nrep, ncol=ene,byrow=T) # genero las Nrep=1000 uniformes del item anterior y otras Nrep=10000 \n",
    "xbarra1200<-apply(matriz1200,1,mean) #R oriented\n",
    "\n",
    "hist(xbarra1200,freq=F,main=\"Promedio de 1200 v.a. i.i.d. U(0,1)\")\n",
    "\n",
    "par(mfrow=c(1,1))"
   ]
  },
  {
   "cell_type": "code",
   "execution_count": 57,
   "metadata": {
    "collapsed": false
   },
   "outputs": [
    {
     "data": {
      "image/png": "[encoded data removed]"
     },
     "metadata": {},
     "output_type": "display_data"
    },
    {
     "data": {
      "image/png": "[encoded data removed]",
      "text/plain": [
       "plot without title"
      ]
     },
     "metadata": {},
     "output_type": "display_data"
    }
   ],
   "source": [
    "## Otra forma: hago todo de una sola vez.\n",
    "\n",
    "enes<-c(5,30,500,1200)\n",
    "largo_enes<-length(enes)\n",
    "todo<-matrix(NA,Nrep*cuanto_enes,nrow=Nrep,ncol=largo_enes)\n",
    "for (i in 1:largo_enes)\n",
    "{\n",
    "  ene=enes[i]\n",
    "  matriz<-matrix(runif(Nrep*ene),nrow=Nrep, ncol=ene,byrow=T) # genero las Nrep=1000 uniformes del item anterior y otras Nrep \n",
    "  xbarra<-apply(matriz,1,mean) #R oriented\n",
    "  todo[,i]<-xbarra\n",
    "  }\n",
    "\n",
    "\n",
    "#hacemos un histograma por columna\n",
    "par(mfrow=c(2,2))\n",
    "for (j in 1:largo_enes)\n",
    "{\n",
    "  hist(todo[,j], freq=FALSE, main=c(\"Promedio  n=\",enes[j]),xlab=\"xbarra\")\n",
    "}\n",
    "par(mfrow=c(1,1))\n",
    "\n",
    "##Agrego un boxplot para visualizar\n",
    "boxplot(todo,2,names=c(\"5\",\"30\",\"500\",\"1200\")) #hace un boxplot por columna\n",
    "\n",
    "par(mfrow=c(1,1))"
   ]
  },
  {
   "cell_type": "markdown",
   "metadata": {},
   "source": [
    "e. Calculamos media y el desvío standard muestrales para cada conjunto de datos. ¿A qué valores teóricos deberían parecerse? "
   ]
  },
  {
   "cell_type": "code",
   "execution_count": 58,
   "metadata": {
    "collapsed": false
   },
   "outputs": [
    {
     "data": {
      "text/html": [
       "<ol class=list-inline>\n",
       "\t<li>0.131771458767827</li>\n",
       "\t<li>0.0526295445009376</li>\n",
       "\t<li>0.013120584125211</li>\n",
       "\t<li>0.00841789642768819</li>\n",
       "</ol>\n"
      ],
      "text/latex": [
       "\\begin{enumerate*}\n",
       "\\item 0.131771458767827\n",
       "\\item 0.0526295445009376\n",
       "\\item 0.013120584125211\n",
       "\\item 0.00841789642768819\n",
       "\\end{enumerate*}\n"
      ],
      "text/markdown": [
       "1. 0.131771458767827\n",
       "2. 0.0526295445009376\n",
       "3. 0.013120584125211\n",
       "4. 0.00841789642768819\n",
       "\n",
       "\n"
      ],
      "text/plain": [
       "[1] 0.131771459 0.052629545 0.013120584 0.008417896"
      ]
     },
     "metadata": {},
     "output_type": "display_data"
    },
    {
     "data": {
      "text/html": [
       "<ol class=list-inline>\n",
       "\t<li>0.494132522249967</li>\n",
       "\t<li>0.500071869077852</li>\n",
       "\t<li>0.500326250158494</li>\n",
       "\t<li>0.499832010817913</li>\n",
       "</ol>\n"
      ],
      "text/latex": [
       "\\begin{enumerate*}\n",
       "\\item 0.494132522249967\n",
       "\\item 0.500071869077852\n",
       "\\item 0.500326250158494\n",
       "\\item 0.499832010817913\n",
       "\\end{enumerate*}\n"
      ],
      "text/markdown": [
       "1. 0.494132522249967\n",
       "2. 0.500071869077852\n",
       "3. 0.500326250158494\n",
       "4. 0.499832010817913\n",
       "\n",
       "\n"
      ],
      "text/plain": [
       "[1] 0.4941325 0.5000719 0.5003263 0.4998320"
      ]
     },
     "metadata": {},
     "output_type": "display_data"
    },
    {
     "data": {
      "image/png": "[encoded data removed]",
      "text/plain": [
       "plot without title"
      ]
     },
     "metadata": {},
     "output_type": "display_data"
    }
   ],
   "source": [
    "# Estandarizar las columnas de todo\n",
    "desvios<-apply(todo,2,sd)   #desvío de cada columna\n",
    "medias<-apply(todo, 2, mean) #media de cada columna\n",
    "\n",
    "desvios\n",
    "medias\n",
    "\n",
    "todo_estandarizado<-matrix(NA,Nrep*largo_enes,nrow=Nrep,ncol=largo_enes)\n",
    "for (j in 1:largo_enes)\n",
    "{\n",
    "  todo_estandarizado[,j]<-(todo[,j]-medias[j])/desvios[j]\n",
    "  \n",
    "}\n",
    "\n",
    "boxplot(todo_estandarizado,2, names=c(\"5\",\"30\",\"500\",\"1200\")) \n",
    "\n"
   ]
  },
  {
   "cell_type": "markdown",
   "metadata": {},
   "source": [
    "Las medias muestrales deberían parecerse a 0.5 y el desvío standard a $\\sqrt{\\frac{1}{12 n}}$."
   ]
  },
  {
   "cell_type": "markdown",
   "metadata": {},
   "source": [
    "f. El Teorema Central del Límite  establece que la distribución de \n",
    "$$ \\frac{\\bar{X}_n- E(X_1)}{\\sqrt{Var(\\bar{X_n})}}=  \\frac{\\bar{X}_n- E(X_1)}{\\sqrt{ Var(X_1)/n}} \\, $$\n",
    "se aproxima a la distribución normal de la normal estándar, cuando $n$ es suficientemente grande. \n",
    "\n",
    "Transforme los datos obtenidos en el item c) y estudie la distribución de cada conjunto de datos transformado  mediante\n",
    "histogramas y boxplots."
   ]
  },
  {
   "cell_type": "code",
   "execution_count": 60,
   "metadata": {
    "collapsed": false
   },
   "outputs": [
    {
     "data": {
      "image/png": "[encoded data removed]"
     },
     "metadata": {},
     "output_type": "display_data"
    },
    {
     "data": {
      "image/png": "[encoded data removed]",
      "text/plain": [
       "plot without title"
      ]
     },
     "metadata": {},
     "output_type": "display_data"
    }
   ],
   "source": [
    "## Hago todo de una sola vez.\n",
    "\n",
    "enes<-c(5,30,500,1200)\n",
    "largo_enes<-length(enes)\n",
    "todo<-matrix(NA,Nrep*largo_enes,nrow=Nrep,ncol=largo_enes)\n",
    "for (i in 1:largo_enes)\n",
    "{\n",
    "  ene=enes[i]\n",
    "  matriz<-matrix(runif(Nrep*ene),nrow=Nrep, ncol=ene,byrow=T) #genero las Nrep=1000 unif del item anterior y otras Nrep \n",
    "  xbarra<-apply(matriz,1,mean) #R oriented\n",
    "    \n",
    "##estandarizo con los valores verdaderos\n",
    "  xbarra<-(xbarra-0.5)/sqrt(1/(12*ene))\n",
    "  todo[,i]<-xbarra\n",
    "  }\n",
    "\n",
    "\n",
    "#hacemos un histograma por columna\n",
    "par(mfrow=c(2,2))\n",
    "for (j in 1:largo_enes)\n",
    "{\n",
    "  hist(todo[,j], freq=FALSE, main=c(\"promedio con n=\",enes[j]),xlab=\" \")\n",
    "}\n",
    "par(mfrow=c(1,1))\n",
    "\n",
    "##Agrego un boxplot para visualizar\n",
    "boxplot(todo,2,names=c(\"5\",\"30\",\"500\",\"1200\")) #hace un boxplot por columna\n"
   ]
  },
  {
   "cell_type": "markdown",
   "metadata": {},
   "source": [
    "g. Repitamos el ítem e) generando ahora variables con distribución Cauchy $\\mathcal C (0; 1)$. Recuerde de $\\mathcal C (0; 1)$ coincide con Student con 1 grado de libertad (rt(n,df=1) es para generar en R).  Comparemos los resultados obtenidos. ¿Se puede realizar el ítem f)? ¿Por qué?"
   ]
  },
  {
   "cell_type": "code",
   "execution_count": 64,
   "metadata": {
    "collapsed": false
   },
   "outputs": [
    {
     "data": {
      "text/html": [
       "<ol class=list-inline>\n",
       "\t<li>69.4254816154896</li>\n",
       "\t<li>95.577323822584</li>\n",
       "\t<li>1606.16416388808</li>\n",
       "\t<li>12.3871093274609</li>\n",
       "</ol>\n"
      ],
      "text/latex": [
       "\\begin{enumerate*}\n",
       "\\item 69.4254816154896\n",
       "\\item 95.577323822584\n",
       "\\item 1606.16416388808\n",
       "\\item 12.3871093274609\n",
       "\\end{enumerate*}\n"
      ],
      "text/markdown": [
       "1. 69.4254816154896\n",
       "2. 95.577323822584\n",
       "3. 1606.16416388808\n",
       "4. 12.3871093274609\n",
       "\n",
       "\n"
      ],
      "text/plain": [
       "[1]   69.42548   95.57732 1606.16416   12.38711"
      ]
     },
     "metadata": {},
     "output_type": "display_data"
    },
    {
     "data": {
      "text/html": [
       "<ol class=list-inline>\n",
       "\t<li>2.277207854246</li>\n",
       "\t<li>-4.11878051063608</li>\n",
       "\t<li>-50.910109213182</li>\n",
       "\t<li>-0.562361341788221</li>\n",
       "</ol>\n"
      ],
      "text/latex": [
       "\\begin{enumerate*}\n",
       "\\item 2.277207854246\n",
       "\\item -4.11878051063608\n",
       "\\item -50.910109213182\n",
       "\\item -0.562361341788221\n",
       "\\end{enumerate*}\n"
      ],
      "text/markdown": [
       "1. 2.277207854246\n",
       "2. -4.11878051063608\n",
       "3. -50.910109213182\n",
       "4. -0.562361341788221\n",
       "\n",
       "\n"
      ],
      "text/plain": [
       "[1]   2.2772079  -4.1187805 -50.9101092  -0.5623613"
      ]
     },
     "metadata": {},
     "output_type": "display_data"
    }
   ],
   "source": [
    "# Repetimos e) con la Cauchy\n",
    "\n",
    "set.seed(123)\n",
    "enes<-c(5,30,500,1200)\n",
    "largo_enes<-length(enes)\n",
    "todo<-matrix(NA,Nrep*largo_enes,nrow=Nrep,ncol=largo_enes)\n",
    "for (i in 1:largo_enes)\n",
    "{\n",
    "  ene=enes[i]\n",
    "  matriz<-matrix(rt(Nrep*ene,df=1),nrow=Nrep, ncol=ene,byrow=T) # genero las Nrep uniformes del item anterior y otras Nrep \n",
    "  xbarra<-apply(matriz,1,mean) #R oriented\n",
    "  todo[,i]<-xbarra\n",
    "}\n",
    "\n",
    "#vamos a calcular promedios y desvios por las columnas de todo\n",
    "desvios.cauchy<-apply(todo,2,sd)    #desvio de cada columna\n",
    "medias.cauchy<-apply(todo, 2, mean) #media de cada columna\n",
    "\n",
    "desvios.cauchy\n",
    "medias.cauchy\n"
   ]
  },
  {
   "cell_type": "markdown",
   "metadata": {},
   "source": [
    "3.Intervalos de Confianza: \"Interval that contains an unknown quantity with  a given frequency\", All of Statistics, Wasserman. "
   ]
  },
  {
   "cell_type": "markdown",
   "metadata": {},
   "source": [
    "a. Implemente una función intervalo.mu.asin que tenga por input  el nivel $1-\\alpha$ y un conjunto de datos \n",
    "$x_1,\\ldots, x_n$, provenientes de una muestra de $X$, y devuelva el intervalo de confianza de nivel asintótico $1-\\alpha$ \n",
    "para $\\mu=\\mathbb E(X)$. "
   ]
  },
  {
   "cell_type": "code",
   "execution_count": 75,
   "metadata": {
    "collapsed": true
   },
   "outputs": [],
   "source": [
    "intervalo.mu.asin<- function(x,nivel)\n",
    "{ media<- mean(x)\n",
    "  desvio<-sd(x)\n",
    "  n<- length(x)\n",
    "\t\n",
    "  alfa2<- (1-nivel)/2\n",
    "  zalfa2<- -qnorm(alfa2)\n",
    "  liminf<-media-zalfa2*desvio/sqrt(n)\n",
    "  limsup<-media+zalfa2*desvio/sqrt(n)\n",
    "\t\n",
    "  list=c(liminf,limsup)\n",
    "  return(list)\n",
    "}\n"
   ]
  },
  {
   "cell_type": "markdown",
   "metadata": {},
   "source": [
    "Nivel de Cubrimiento empírico:  El nivel de cubrimiento empírico (de un procedimiento) se define  como la proporción de\n",
    "veces que los  intervalos  (construidos con el procedimiento) utilizando  datos  simulados  contiene a \n",
    "$\\mu$ (o $\\theta$), en cierta cantidad de  $Nrep$ replicaciones. "
   ]
  },
  {
   "cell_type": "markdown",
   "metadata": {},
   "source": [
    "b. Simulación  bajo normalidad. Genere variables con distribucion normal de media $\\mu=0$  y $\\sigma=0.1, 1,10$.\n",
    "Calcule  el cubrimiento empírico del intervalo de confianza asintótico  de nivel 1-$\\alpha$, definido en intervalo.mu.asin, \n",
    "para $\\alpha=0.05$, $n=5$, $n=10$, $n=30$, $n=50$, $n=100$, $n=1000$, utilizando $Nrep=1000$ replicaciones, y complete la \n",
    "siguiente tabla. En cada caso,  calcule el promedio de las longitudes en las $Nrep=1000$ replicaciones e incluya el valor \n",
    "en la tabla (long). \n",
    "Indique a que valor debe aproximarse el nivel de cubrimiento empírico. Comente los resultados obtenidos. En base a los resultados, ¿parece razonable este procedimiento para $n=5$? ¿Conoce algún procedimiento alternativo?"
   ]
  },
  {
   "cell_type": "code",
   "execution_count": 76,
   "metadata": {
    "collapsed": false
   },
   "outputs": [
    {
     "data": {
      "text/html": [
       "<table>\n",
       "<thead><tr><th></th><th scope=col>5</th><th scope=col>10</th><th scope=col>30</th><th scope=col>50</th><th scope=col>100</th><th scope=col>1000</th></tr></thead>\n",
       "<tbody>\n",
       "\t<tr><th scope=row>0.1</th><td>0.892</td><td>0.936</td><td>0.941</td><td>0.950</td><td>0.960</td><td>0.963</td></tr>\n",
       "\t<tr><th scope=row>1</th><td>0.871</td><td>0.919</td><td>0.943</td><td>0.935</td><td>0.963</td><td>0.956</td></tr>\n",
       "\t<tr><th scope=row>10</th><td>0.886</td><td>0.917</td><td>0.944</td><td>0.957</td><td>0.943</td><td>0.962</td></tr>\n",
       "</tbody>\n",
       "</table>\n"
      ],
      "text/latex": [
       "\\begin{tabular}{r|llllll}\n",
       "  & 5 & 10 & 30 & 50 & 100 & 1000\\\\\n",
       "\\hline\n",
       "\t0.1 & 0.892 & 0.936 & 0.941 & 0.950 & 0.960 & 0.963\\\\\n",
       "\t1 & 0.871 & 0.919 & 0.943 & 0.935 & 0.963 & 0.956\\\\\n",
       "\t10 & 0.886 & 0.917 & 0.944 & 0.957 & 0.943 & 0.962\\\\\n",
       "\\end{tabular}\n"
      ],
      "text/markdown": [
       "\n",
       "| <!--/--> | 5 | 10 | 30 | 50 | 100 | 1000 | \n",
       "|---|---|---|\n",
       "| 0.1 | 0.892 | 0.936 | 0.941 | 0.950 | 0.960 | 0.963 | \n",
       "| 1 | 0.871 | 0.919 | 0.943 | 0.935 | 0.963 | 0.956 | \n",
       "| 10 | 0.886 | 0.917 | 0.944 | 0.957 | 0.943 | 0.962 | \n",
       "\n",
       "\n"
      ],
      "text/plain": [
       "    5     10    30    50    100   1000 \n",
       "0.1 0.892 0.936 0.941 0.950 0.960 0.963\n",
       "1   0.871 0.919 0.943 0.935 0.963 0.956\n",
       "10  0.886 0.917 0.944 0.957 0.943 0.962"
      ]
     },
     "metadata": {},
     "output_type": "display_data"
    },
    {
     "data": {
      "text/html": [
       "<table>\n",
       "<thead><tr><th></th><th scope=col>5</th><th scope=col>10</th><th scope=col>30</th><th scope=col>50</th><th scope=col>100</th><th scope=col>1000</th></tr></thead>\n",
       "<tbody>\n",
       "\t<tr><th scope=row>0.1</th><td> 0.1644235</td><td> 0.1210051</td><td>0.07106871</td><td>0.05525547</td><td>0.03923503</td><td>0.01238693</td></tr>\n",
       "\t<tr><th scope=row>1</th><td> 1.6456013</td><td> 1.2041284</td><td>0.71163165</td><td>0.54984755</td><td>0.38927198</td><td>0.12401016</td></tr>\n",
       "\t<tr><th scope=row>10</th><td>16.8083246</td><td>12.0333885</td><td>7.11837325</td><td>5.48462670</td><td>3.91333790</td><td>1.23938386</td></tr>\n",
       "</tbody>\n",
       "</table>\n"
      ],
      "text/latex": [
       "\\begin{tabular}{r|llllll}\n",
       "  & 5 & 10 & 30 & 50 & 100 & 1000\\\\\n",
       "\\hline\n",
       "\t0.1 &  0.1644235 &  0.1210051 & 0.07106871 & 0.05525547 & 0.03923503 & 0.01238693\\\\\n",
       "\t1 &  1.6456013 &  1.2041284 & 0.71163165 & 0.54984755 & 0.38927198 & 0.12401016\\\\\n",
       "\t10 & 16.8083246 & 12.0333885 & 7.11837325 & 5.48462670 & 3.91333790 & 1.23938386\\\\\n",
       "\\end{tabular}\n"
      ],
      "text/markdown": [
       "\n",
       "| <!--/--> | 5 | 10 | 30 | 50 | 100 | 1000 | \n",
       "|---|---|---|\n",
       "| 0.1 |  0.1644235 |  0.1210051 | 0.07106871 | 0.05525547 | 0.03923503 | 0.01238693 | \n",
       "| 1 |  1.6456013 |  1.2041284 | 0.71163165 | 0.54984755 | 0.38927198 | 0.12401016 | \n",
       "| 10 | 16.8083246 | 12.0333885 | 7.11837325 | 5.48462670 | 3.91333790 | 1.23938386 | \n",
       "\n",
       "\n"
      ],
      "text/plain": [
       "    5          10         30         50         100        1000      \n",
       "0.1  0.1644235  0.1210051 0.07106871 0.05525547 0.03923503 0.01238693\n",
       "1    1.6456013  1.2041284 0.71163165 0.54984755 0.38927198 0.12401016\n",
       "10  16.8083246 12.0333885 7.11837325 5.48462670 3.91333790 1.23938386"
      ]
     },
     "metadata": {},
     "output_type": "display_data"
    }
   ],
   "source": [
    "set.seed(123)\n",
    "enes<-c(5,10,30,50,100,1000)\n",
    "Nrep<-1000\n",
    "largo_enes<-length(enes)\n",
    "sigmas<- c(0.1,1,10)\n",
    "longitud<-cobertura<-matrix(0,nrow=length(sigmas),ncol=length(enes))\n",
    "\n",
    "for (k in 1:length(sigmas)){\n",
    " sigma<-sigmas[k]   \n",
    " for (i in 1:largo_enes)\n",
    " {\n",
    "   ene=enes[i]\n",
    "   matriz<-matrix(rnorm(Nrep*ene,0,sigma),nrow=Nrep, ncol=ene,byrow=T) # genero las Nrep normales \n",
    "   ic<-apply(matriz,1,intervalo.mu.asin,nivel=0.95) #R oriented\n",
    "   ic<-as.matrix(ic)\n",
    "   longitud[k,i]<- mean(ic[2,]-ic[1,])\n",
    "   cobertura[k,i]<- mean(ic[2,]*ic[1,]<0)\n",
    " }\n",
    "}\n",
    "colnames(cobertura)<- enes\n",
    "rownames(cobertura)<-sigmas\n",
    "cobertura\n",
    "\n",
    "colnames(longitud)<- enes\n",
    "rownames(longitud)<-sigmas\n",
    "longitud\n",
    "\n"
   ]
  },
  {
   "cell_type": "markdown",
   "metadata": {},
   "source": [
    "c. Algo de Bootstrap: Implemente una función intervalo.mediana.boot que tenga por input  el nivel $1-\\alpha$ y un conjunto de datos\n",
    "$x_1,\\ldots, x_n$, provenientes de una muestra de $X$,   y devuelva el intervalo de confianza asintótico $1-\\alpha$ para la \n",
    "mediana de $X$. \n",
    "Para ello, asuma que la mediana muestral es asintóticamente normal y estime el desvío del estimador mediante remuestreo con \n",
    "$Nboot=100$. \n"
   ]
  },
  {
   "cell_type": "code",
   "execution_count": 72,
   "metadata": {
    "collapsed": true
   },
   "outputs": [],
   "source": [
    "intervalo.mediana.boot<- function(x,nivel)\n",
    "{\n",
    "    Nboot<- 100\n",
    "# Estimacion bootstrap del desvio de la mediana\n",
    "# Remuestreo\n",
    "   mediana_boot<-rep(NA,Nboot)\n",
    "   for (i in 1:Nboot)\n",
    "   {\n",
    "       x_boot<-sample(x,length(x),replace=TRUE)\n",
    "       mediana_boot[i]<-median(x_boot)\n",
    "   }\n",
    "\n",
    "#estimacion boot del desvio\n",
    "  sd_mediana<-sd(mediana_boot)\n",
    "  alfa2<- (1-nivel)/2\n",
    "  zalfa2<- -qnorm(alfa2)\n",
    "\n",
    "# Calculamos intervalo de confianza para la mediana de x\n",
    "# usando  desvio del estimador estimado con bootstrap \n",
    "lininf<-median(x)-zalfa2*sd_mediana\n",
    "limsup<-median(x)+zalfa2*sd_mediana\n",
    "intervalo<-c(lininf,limsup)\n",
    "return(intervalo)\n",
    "}\n"
   ]
  },
  {
   "cell_type": "markdown",
   "metadata": {},
   "source": [
    "d. Simulación  bajo Cauchy. Genere variables con distribucion Cauchy  $\\mathcal C (0,1)$.Calcule  el cubrimiento empírico del intervalo de confianza bootstrap para la mediana, definido en intervalo.mediana.boot, \n",
    "para $\\alpha=0.05$, $n=30$, $n=50$, $n=100$ y $n=1000$, utilizando $Nrep=1000$ replicaciones, y complete la \n",
    "siguiente tabla. En cada caso, calcule el promedio de las longitudes en las $Nrep=1000$ replicaciones y y el cubrimiento empírico. Indique a que valor debe aproximarse el nivel de cubrimiento empírico. Comente los resultados obtenidos. "
   ]
  },
  {
   "cell_type": "code",
   "execution_count": 73,
   "metadata": {
    "collapsed": false
   },
   "outputs": [
    {
     "data": {
      "text/html": [
       "<table>\n",
       "<tbody>\n",
       "\t<tr><th scope=row>enes</th><td>30.000  </td><td>50.000  </td><td>100.000 </td><td>1000.000</td></tr>\n",
       "\t<tr><th scope=row>cobertura</th><td> 0.958  </td><td> 0.938  </td><td>  0.947 </td><td>   0.931</td></tr>\n",
       "</tbody>\n",
       "</table>\n"
      ],
      "text/latex": [
       "\\begin{tabular}{r|llll}\n",
       "\tenes & 30.000   & 50.000   & 100.000  & 1000.000\\\\\n",
       "\tcobertura &  0.958   &  0.938   &   0.947  &    0.931\\\\\n",
       "\\end{tabular}\n"
      ],
      "text/markdown": [
       "\n",
       "| enes | 30.000   | 50.000   | 100.000  | 1000.000 | \n",
       "| cobertura |  0.958   |  0.938   |   0.947  |    0.931 | \n",
       "\n",
       "\n"
      ],
      "text/plain": [
       "          [,1]   [,2]   [,3]    [,4]    \n",
       "enes      30.000 50.000 100.000 1000.000\n",
       "cobertura  0.958  0.938   0.947    0.931"
      ]
     },
     "metadata": {},
     "output_type": "display_data"
    },
    {
     "data": {
      "text/html": [
       "<table>\n",
       "<tbody>\n",
       "\t<tr><th scope=row>enes</th><td>30.000000   </td><td>50.0000000  </td><td>100.0000000 </td><td>1000.0000000</td></tr>\n",
       "\t<tr><th scope=row>longitud</th><td> 1.294684   </td><td> 0.9370158  </td><td>  0.6443115 </td><td>   0.1952487</td></tr>\n",
       "</tbody>\n",
       "</table>\n"
      ],
      "text/latex": [
       "\\begin{tabular}{r|llll}\n",
       "\tenes & 30.000000    & 50.0000000   & 100.0000000  & 1000.0000000\\\\\n",
       "\tlongitud &  1.294684    &  0.9370158   &   0.6443115  &    0.1952487\\\\\n",
       "\\end{tabular}\n"
      ],
      "text/markdown": [
       "\n",
       "| enes | 30.000000    | 50.0000000   | 100.0000000  | 1000.0000000 | \n",
       "| longitud |  1.294684    |  0.9370158   |   0.6443115  |    0.1952487 | \n",
       "\n",
       "\n"
      ],
      "text/plain": [
       "         [,1]      [,2]       [,3]        [,4]        \n",
       "enes     30.000000 50.0000000 100.0000000 1000.0000000\n",
       "longitud  1.294684  0.9370158   0.6443115    0.1952487"
      ]
     },
     "metadata": {},
     "output_type": "display_data"
    }
   ],
   "source": [
    "set.seed(123)\n",
    "enes<-c(30,50,100,1000)\n",
    "Nrep<-1000\n",
    "largo_enes<-length(enes)\n",
    "longitud<-cobertura<-rep(0,length=length(enes))\n",
    "\n",
    "for (i in 1:largo_enes)\n",
    " {\n",
    "   ene=enes[i]\n",
    "   matriz<-matrix(rt(Nrep*ene,df=1),nrow=Nrep, ncol=ene,byrow=T) # genero las Nrep Cauchy\n",
    "   ic<-apply(matriz,1,intervalo.mediana.boot,nivel=0.95) #R oriented\n",
    "   ic<-as.matrix(ic)\n",
    "   longitud[i]<- mean(ic[2,]-ic[1,])\n",
    "   cobertura[i]<- mean(ic[2,]*ic[1,]<0)\n",
    " }\n",
    "\n",
    "rbind(enes,cobertura)\n",
    "\n",
    "rbind(enes,longitud)\n",
    "\n"
   ]
  }
 ],
 "metadata": {
  "kernelspec": {
   "display_name": "R",
   "language": "R",
   "name": "ir"
  },
  "language_info": {
   "codemirror_mode": "r",
   "file_extension": ".r",
   "mimetype": "text/x-r-source",
   "name": "R",
   "pygments_lexer": "r",
   "version": "3.3.2"
  }
 },
 "nbformat": 4,
 "nbformat_minor": 2
}
